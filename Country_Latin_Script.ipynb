{
  "nbformat": 4,
  "nbformat_minor": 0,
  "metadata": {
    "colab": {
      "name": "Country-Latin-Script.ipynb",
      "provenance": [],
      "collapsed_sections": [],
      "include_colab_link": true
    },
    "kernelspec": {
      "name": "python3",
      "display_name": "Python 3"
    }
  },
  "cells": [
    {
      "cell_type": "markdown",
      "metadata": {
        "id": "view-in-github",
        "colab_type": "text"
      },
      "source": [
        "<a href=\"https://colab.research.google.com/github/ngttgiang/company_matching/blob/master/Country_Latin_Script.ipynb\" target=\"_parent\"><img src=\"https://colab.research.google.com/assets/colab-badge.svg\" alt=\"Open In Colab\"/></a>"
      ]
    },
    {
      "cell_type": "code",
      "metadata": {
        "id": "U8Hd0Otf1CNP",
        "colab_type": "code",
        "colab": {}
      },
      "source": [
        "!pip install request"
      ],
      "execution_count": 0,
      "outputs": []
    },
    {
      "cell_type": "code",
      "metadata": {
        "id": "USloGISz3TQU",
        "colab_type": "code",
        "colab": {}
      },
      "source": [
        "import requests\n",
        "import lxml.html\n",
        "import re\n",
        "import pandas as pd\n",
        "import string"
      ],
      "execution_count": 0,
      "outputs": []
    },
    {
      "cell_type": "code",
      "metadata": {
        "id": "Gh5iZ-2z3A0b",
        "colab_type": "code",
        "colab": {}
      },
      "source": [
        "#List of languages that use latin script\n",
        "url = 'https://en.wikipedia.org/wiki/List_of_languages_by_writing_system'\n",
        "html = requests.get(url)\n",
        "doc = lxml.html.fromstring(html.content)\n",
        "lang = [l.text_content() for l in doc.xpath('//*[@id=\"mw-content-text\"]/div/ul[67]/li')]\n",
        "lang = [re.sub('\\[[a-z]+]|\\[[0-9]+]|\\\\n|\\(.+\\)','',i).strip() for i in lang]"
      ],
      "execution_count": 0,
      "outputs": []
    },
    {
      "cell_type": "code",
      "metadata": {
        "id": "n7W0nxMS-L8p",
        "colab_type": "code",
        "colab": {
          "base_uri": "https://localhost:8080/",
          "height": 204
        },
        "outputId": "d78f20b9-9347-484e-fc61-63711bcf92db"
      },
      "source": [
        "#List of countries and their languages\n",
        "url2 = 'https://en.wikipedia.org/wiki/List_of_official_languages_by_country_and_territory'\n",
        "html2 = requests.get(url2)\n",
        "doc2 = lxml.html.fromstring(html2.content)\n",
        "country = [i.text_content() for i in doc2.xpath('//table[@class = \"wikitable\"]//tr/td[1]')]\n",
        "official_lang = [i.text_content() for i in doc2.xpath('//table[@class = \"wikitable\"]//tr/td[2]')]\n",
        "national_lang = [i.text_content() for i in doc2.xpath('//table[@class = \"wikitable\"]//tr/td[5]')]\n",
        "\n",
        "country = [re.sub('\\[[a-z]+]|\\[[0-9]+]|\\\\n|\\(.+\\)','',i).strip() for i in country]\n",
        "\n",
        "official_lang = [re.sub('\\[[a-z]+]|\\[[0-9]+]|\\(.+\\)', '', i) for i in official_lang]\n",
        "official_lang = [re.sub('\\\\n$|^\\\\n', '', i) for i in official_lang]\n",
        "official_lang = [re.sub('\\\\n', ', ', i) for i in official_lang]\n",
        "\n",
        "national_lang = [re.sub('\\[[a-z]+]|\\[[0-9]+]|\\(.+\\)', '', i) for i in national_lang]\n",
        "national_lang = [re.sub('\\\\n$|^\\\\n', '', i) for i in national_lang]\n",
        "national_lang = [re.sub('\\\\n', ', ', i) for i in national_lang]\n",
        "\n",
        "data = pd.DataFrame()\n",
        "data['Country'] = country\n",
        "data['Lang'] = [ b if a == '' else a for a, b in zip(official_lang, national_lang)]\n",
        "data['Lang2'] = [a.split(',') for a in data['Lang']]\n",
        "data.head()"
      ],
      "execution_count": 27,
      "outputs": [
        {
          "output_type": "execute_result",
          "data": {
            "text/html": [
              "<div>\n",
              "<style scoped>\n",
              "    .dataframe tbody tr th:only-of-type {\n",
              "        vertical-align: middle;\n",
              "    }\n",
              "\n",
              "    .dataframe tbody tr th {\n",
              "        vertical-align: top;\n",
              "    }\n",
              "\n",
              "    .dataframe thead th {\n",
              "        text-align: right;\n",
              "    }\n",
              "</style>\n",
              "<table border=\"1\" class=\"dataframe\">\n",
              "  <thead>\n",
              "    <tr style=\"text-align: right;\">\n",
              "      <th></th>\n",
              "      <th>Country</th>\n",
              "      <th>Lang</th>\n",
              "      <th>Lang2</th>\n",
              "    </tr>\n",
              "  </thead>\n",
              "  <tbody>\n",
              "    <tr>\n",
              "      <th>0</th>\n",
              "      <td>Abkhazia</td>\n",
              "      <td>Abkhaz, Russian</td>\n",
              "      <td>[Abkhaz,  Russian]</td>\n",
              "    </tr>\n",
              "    <tr>\n",
              "      <th>1</th>\n",
              "      <td>Afghanistan</td>\n",
              "      <td>Pashto, Dari</td>\n",
              "      <td>[Pashto,  Dari]</td>\n",
              "    </tr>\n",
              "    <tr>\n",
              "      <th>2</th>\n",
              "      <td>Albania</td>\n",
              "      <td>Albanian</td>\n",
              "      <td>[Albanian]</td>\n",
              "    </tr>\n",
              "    <tr>\n",
              "      <th>3</th>\n",
              "      <td>Algeria</td>\n",
              "      <td>Arabic, Tamazight</td>\n",
              "      <td>[Arabic,  Tamazight]</td>\n",
              "    </tr>\n",
              "    <tr>\n",
              "      <th>4</th>\n",
              "      <td>Andorra</td>\n",
              "      <td>Catalan</td>\n",
              "      <td>[Catalan]</td>\n",
              "    </tr>\n",
              "  </tbody>\n",
              "</table>\n",
              "</div>"
            ],
            "text/plain": [
              "       Country               Lang                 Lang2\n",
              "0     Abkhazia    Abkhaz, Russian    [Abkhaz,  Russian]\n",
              "1  Afghanistan       Pashto, Dari       [Pashto,  Dari]\n",
              "2      Albania           Albanian            [Albanian]\n",
              "3      Algeria  Arabic, Tamazight  [Arabic,  Tamazight]\n",
              "4      Andorra            Catalan             [Catalan]"
            ]
          },
          "metadata": {
            "tags": []
          },
          "execution_count": 27
        }
      ]
    },
    {
      "cell_type": "code",
      "metadata": {
        "id": "SRfr1l7FI-NP",
        "colab_type": "code",
        "colab": {}
      },
      "source": [
        "#Flagging the country which uses Latin script\n",
        "\n",
        "def find_language(lang_list, list_2_search):\n",
        "  for l in lang_list:\n",
        "    if list_2_search.count(l) >0:\n",
        "      return('Y')\n",
        "      break\n",
        "  return('N')\n",
        "\n",
        "\n",
        "data['Latin_Fl'] = [find_language(a, lang) for a in data['Lang2']]\n"
      ],
      "execution_count": 0,
      "outputs": []
    },
    {
      "cell_type": "code",
      "metadata": {
        "id": "qS1ZpNVMOh7l",
        "colab_type": "code",
        "outputId": "ee000f55-1c4c-4b8d-d9f6-076f5242c932",
        "colab": {
          "base_uri": "https://localhost:8080/",
          "height": 34
        }
      },
      "source": [
        "from google.colab import drive\n",
        "drive.mount('/content/drive/')\n",
        "import os\n",
        "os.chdir(\"/content/drive/My Drive/Company_Matching\")\n"
      ],
      "execution_count": 24,
      "outputs": [
        {
          "output_type": "stream",
          "text": [
            "Drive already mounted at /content/drive/; to attempt to forcibly remount, call drive.mount(\"/content/drive/\", force_remount=True).\n"
          ],
          "name": "stdout"
        }
      ]
    },
    {
      "cell_type": "code",
      "metadata": {
        "id": "JFmU9x2a3X4E",
        "colab_type": "code",
        "colab": {}
      },
      "source": [
        "data.to_csv('list.csv')"
      ],
      "execution_count": 0,
      "outputs": []
    }
  ]
}