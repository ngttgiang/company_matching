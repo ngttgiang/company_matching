{
  "nbformat": 4,
  "nbformat_minor": 0,
  "metadata": {
    "colab": {
      "name": "Country-Latin-Script.ipynb",
      "provenance": [],
      "collapsed_sections": [],
      "include_colab_link": true
    },
    "kernelspec": {
      "name": "python3",
      "display_name": "Python 3"
    }
  },
  "cells": [
    {
      "cell_type": "markdown",
      "metadata": {
        "id": "view-in-github",
        "colab_type": "text"
      },
      "source": [
        "<a href=\"https://colab.research.google.com/github/ngttgiang/company_matching/blob/master/Country_Latin_Script.ipynb\" target=\"_parent\"><img src=\"https://colab.research.google.com/assets/colab-badge.svg\" alt=\"Open In Colab\"/></a>"
      ]
    },
    {
      "cell_type": "code",
      "metadata": {
        "id": "USloGISz3TQU",
        "colab_type": "code",
        "colab": {}
      },
      "source": [
        "import requests\n",
        "import lxml.html\n",
        "import re\n",
        "import pandas as pd\n",
        "import string"
      ],
      "execution_count": 0,
      "outputs": []
    },
    {
      "cell_type": "markdown",
      "metadata": {
        "id": "DXjCD_6z9jTx",
        "colab_type": "text"
      },
      "source": [
        "**List of Language that use Latin script**"
      ]
    },
    {
      "cell_type": "code",
      "metadata": {
        "id": "Gh5iZ-2z3A0b",
        "colab_type": "code",
        "colab": {}
      },
      "source": [
        "#Source from Wikipedia\n",
        "url = 'https://en.wikipedia.org/wiki/List_of_languages_by_writing_system'\n",
        "\n",
        "#Use request to scrap the content of the page\n",
        "#Tip: Use open with Chrome and use 'Inspect' > Elements > Copy XPath\n",
        "\n",
        "html = requests.get(url)\n",
        "doc = lxml.html.fromstring(html.content)\n",
        "latin = [l.text_content() for l in doc.xpath('//*[@id=\"mw-content-text\"]/div/ul[67]/li')]\n",
        "\n",
        "#Use Regular Expression to remove footnote marks of Wikipedia (which are in form: [1] or [a])\n",
        "#  remove the new line character and extra spaces\n",
        "latin = [re.sub('\\[[a-z]+]|\\[[0-9]+]|\\\\n|\\(.+\\)','',i).strip() for i in latin]"
      ],
      "execution_count": 0,
      "outputs": []
    },
    {
      "cell_type": "markdown",
      "metadata": {
        "id": "2EjDdlBJ--j1",
        "colab_type": "text"
      },
      "source": [
        "**List of countries and their languages**"
      ]
    },
    {
      "cell_type": "code",
      "metadata": {
        "id": "n7W0nxMS-L8p",
        "colab_type": "code",
        "colab": {
          "base_uri": "https://localhost:8080/",
          "height": 204
        },
        "outputId": "f419f35a-f743-41e3-c274-a37a6467404a"
      },
      "source": [
        "#Source from Wikipedia\n",
        "url2 = 'https://en.wikipedia.org/wiki/List_of_official_languages_by_country_and_territory'\n",
        "\n",
        "#Use request to scrap the content of the page\n",
        "html2 = requests.get(url2)\n",
        "doc2 = lxml.html.fromstring(html2.content)\n",
        "country = [i.text_content() for i in doc2.xpath('//table[@class = \"wikitable\"]//tr/td[1]')]\n",
        "official_lang = [i.text_content() for i in doc2.xpath('//table[@class = \"wikitable\"]//tr/td[2]')]\n",
        "national_lang = [i.text_content() for i in doc2.xpath('//table[@class = \"wikitable\"]//tr/td[5]')]\n",
        "\n",
        "#Use Regular Expression to remove footnote marks of Wikipedia (which are in form: [1] or [a])\n",
        "#  remove the new line character and extra spaces\n",
        "country = [re.sub('\\[[a-z]+]|\\[[0-9]+]|\\\\n|\\(.+\\)','',i).strip() for i in country]\n",
        "\n",
        "official_lang = [re.sub('\\[[a-z]+]|\\[[0-9]+]|\\(.+\\)', '', i) for i in official_lang]\n",
        "official_lang = [re.sub('\\\\n$|^\\\\n', '', i) for i in official_lang]\n",
        "official_lang = [re.sub('\\\\n', ', ', i) for i in official_lang]\n",
        "\n",
        "national_lang = [re.sub('\\[[a-z]+]|\\[[0-9]+]|\\(.+\\)', '', i) for i in national_lang]\n",
        "national_lang = [re.sub('\\\\n$|^\\\\n', '', i) for i in national_lang]\n",
        "national_lang = [re.sub('\\\\n', ', ', i) for i in national_lang]\n",
        "\n",
        "#Consolidate the data\n",
        "data = pd.DataFrame()\n",
        "data['Country'] = country\n",
        "data['Lang'] = [ b if a == '' else a for a, b in zip(official_lang, national_lang)]\n",
        "data['Lang_list'] = [a.split(',') for a in data['Lang']]\n",
        "data.head()"
      ],
      "execution_count": 38,
      "outputs": [
        {
          "output_type": "execute_result",
          "data": {
            "text/html": [
              "<div>\n",
              "<style scoped>\n",
              "    .dataframe tbody tr th:only-of-type {\n",
              "        vertical-align: middle;\n",
              "    }\n",
              "\n",
              "    .dataframe tbody tr th {\n",
              "        vertical-align: top;\n",
              "    }\n",
              "\n",
              "    .dataframe thead th {\n",
              "        text-align: right;\n",
              "    }\n",
              "</style>\n",
              "<table border=\"1\" class=\"dataframe\">\n",
              "  <thead>\n",
              "    <tr style=\"text-align: right;\">\n",
              "      <th></th>\n",
              "      <th>Country</th>\n",
              "      <th>Lang</th>\n",
              "      <th>Lang_list</th>\n",
              "    </tr>\n",
              "  </thead>\n",
              "  <tbody>\n",
              "    <tr>\n",
              "      <th>0</th>\n",
              "      <td>Abkhazia</td>\n",
              "      <td>Abkhaz, Russian</td>\n",
              "      <td>[Abkhaz,  Russian]</td>\n",
              "    </tr>\n",
              "    <tr>\n",
              "      <th>1</th>\n",
              "      <td>Afghanistan</td>\n",
              "      <td>Pashto, Dari</td>\n",
              "      <td>[Pashto,  Dari]</td>\n",
              "    </tr>\n",
              "    <tr>\n",
              "      <th>2</th>\n",
              "      <td>Albania</td>\n",
              "      <td>Albanian</td>\n",
              "      <td>[Albanian]</td>\n",
              "    </tr>\n",
              "    <tr>\n",
              "      <th>3</th>\n",
              "      <td>Algeria</td>\n",
              "      <td>Arabic, Tamazight</td>\n",
              "      <td>[Arabic,  Tamazight]</td>\n",
              "    </tr>\n",
              "    <tr>\n",
              "      <th>4</th>\n",
              "      <td>Andorra</td>\n",
              "      <td>Catalan</td>\n",
              "      <td>[Catalan]</td>\n",
              "    </tr>\n",
              "  </tbody>\n",
              "</table>\n",
              "</div>"
            ],
            "text/plain": [
              "       Country               Lang             Lang_list\n",
              "0     Abkhazia    Abkhaz, Russian    [Abkhaz,  Russian]\n",
              "1  Afghanistan       Pashto, Dari       [Pashto,  Dari]\n",
              "2      Albania           Albanian            [Albanian]\n",
              "3      Algeria  Arabic, Tamazight  [Arabic,  Tamazight]\n",
              "4      Andorra            Catalan             [Catalan]"
            ]
          },
          "metadata": {
            "tags": []
          },
          "execution_count": 38
        }
      ]
    },
    {
      "cell_type": "markdown",
      "metadata": {
        "id": "1kGKFf0B_qyX",
        "colab_type": "text"
      },
      "source": [
        "**Merging 2 list and flagging the country which uses Latin script**"
      ]
    },
    {
      "cell_type": "code",
      "metadata": {
        "id": "SRfr1l7FI-NP",
        "colab_type": "code",
        "colab": {}
      },
      "source": [
        "def find_language(lang_list, list_2_search):\n",
        "  for l in lang_list:\n",
        "    if list_2_search.count(l) >0:\n",
        "      return('Y')\n",
        "      break\n",
        "  return('N')\n",
        "\n",
        "\n",
        "data['Latin_Fl'] = [find_language(l, latin) for l in data['Lang_list']]"
      ],
      "execution_count": 0,
      "outputs": []
    },
    {
      "cell_type": "markdown",
      "metadata": {
        "id": "40QyVS39AUAm",
        "colab_type": "text"
      },
      "source": [
        "**Save result**"
      ]
    },
    {
      "cell_type": "code",
      "metadata": {
        "id": "qS1ZpNVMOh7l",
        "colab_type": "code",
        "outputId": "8119644f-6cd5-4aae-b230-d7d792eb28d5",
        "colab": {
          "base_uri": "https://localhost:8080/",
          "height": 34
        }
      },
      "source": [
        "# Connect to your Google Drive\n",
        "from google.colab import drive\n",
        "drive.mount('/content/drive/')\n",
        "\n",
        "#Change working directory to the designated folder in Gdrive\n",
        "import os\n",
        "os.chdir(\"/content/drive/My Drive/Company_Matching\")\n",
        "\n",
        "#Save file\n",
        "data.to_csv('country_latin_script.csv')"
      ],
      "execution_count": 40,
      "outputs": [
        {
          "output_type": "stream",
          "text": [
            "Drive already mounted at /content/drive/; to attempt to forcibly remount, call drive.mount(\"/content/drive/\", force_remount=True).\n"
          ],
          "name": "stdout"
        }
      ]
    },
    {
      "cell_type": "code",
      "metadata": {
        "id": "JFmU9x2a3X4E",
        "colab_type": "code",
        "colab": {}
      },
      "source": [
        ""
      ],
      "execution_count": 0,
      "outputs": []
    }
  ]
}